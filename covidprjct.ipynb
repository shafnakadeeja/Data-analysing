{
  "nbformat": 4,
  "nbformat_minor": 0,
  "metadata": {
    "colab": {
      "provenance": []
    },
    "kernelspec": {
      "name": "python3",
      "display_name": "Python 3"
    },
    "language_info": {
      "name": "python"
    }
  },
  "cells": [
    {
      "cell_type": "code",
      "execution_count": 1,
      "metadata": {
        "colab": {
          "base_uri": "https://localhost:8080/"
        },
        "id": "fEo37KTwFKLo",
        "outputId": "d97e3102-cc6c-4098-8074-ad23d685b4d8"
      },
      "outputs": [
        {
          "output_type": "execute_result",
          "data": {
            "text/plain": [
              "<bound method NDFrame.head of        iso_code continent     location        date  total_cases  new_cases  \\\n",
              "0           AFG      Asia  Afghanistan  2020-01-03          NaN        0.0   \n",
              "1           AFG      Asia  Afghanistan  2020-01-04          NaN        0.0   \n",
              "2           AFG      Asia  Afghanistan  2020-01-05          NaN        0.0   \n",
              "3           AFG      Asia  Afghanistan  2020-01-06          NaN        0.0   \n",
              "4           AFG      Asia  Afghanistan  2020-01-07          NaN        0.0   \n",
              "...         ...       ...          ...         ...          ...        ...   \n",
              "343305      ZWE    Africa     Zimbabwe  2023-09-17     265748.0        0.0   \n",
              "343306      ZWE    Africa     Zimbabwe  2023-09-18     265748.0        0.0   \n",
              "343307      ZWE    Africa     Zimbabwe  2023-09-19     265748.0        0.0   \n",
              "343308      ZWE    Africa     Zimbabwe  2023-09-20     265748.0        0.0   \n",
              "343309      ZWE    Africa     Zimbabwe  2023-09-21     265748.0        0.0   \n",
              "\n",
              "        new_cases_smoothed  total_deaths  new_deaths  new_deaths_smoothed  \\\n",
              "0                      NaN           NaN         0.0                  NaN   \n",
              "1                      NaN           NaN         0.0                  NaN   \n",
              "2                      NaN           NaN         0.0                  NaN   \n",
              "3                      NaN           NaN         0.0                  NaN   \n",
              "4                      NaN           NaN         0.0                  NaN   \n",
              "...                    ...           ...         ...                  ...   \n",
              "343305               0.857        5718.0         0.0                  0.0   \n",
              "343306               0.857        5718.0         0.0                  0.0   \n",
              "343307               0.857        5718.0         0.0                  0.0   \n",
              "343308               0.857        5718.0         0.0                  0.0   \n",
              "343309               0.857        5718.0         0.0                  0.0   \n",
              "\n",
              "        ...  male_smokers  handwashing_facilities  hospital_beds_per_thousand  \\\n",
              "0       ...           NaN                  37.746                         0.5   \n",
              "1       ...           NaN                  37.746                         0.5   \n",
              "2       ...           NaN                  37.746                         0.5   \n",
              "3       ...           NaN                  37.746                         0.5   \n",
              "4       ...           NaN                  37.746                         0.5   \n",
              "...     ...           ...                     ...                         ...   \n",
              "343305  ...          30.7                  36.791                         1.7   \n",
              "343306  ...          30.7                  36.791                         1.7   \n",
              "343307  ...          30.7                  36.791                         1.7   \n",
              "343308  ...          30.7                  36.791                         1.7   \n",
              "343309  ...          30.7                  36.791                         1.7   \n",
              "\n",
              "        life_expectancy  human_development_index  population  \\\n",
              "0                 64.83                    0.511  41128772.0   \n",
              "1                 64.83                    0.511  41128772.0   \n",
              "2                 64.83                    0.511  41128772.0   \n",
              "3                 64.83                    0.511  41128772.0   \n",
              "4                 64.83                    0.511  41128772.0   \n",
              "...                 ...                      ...         ...   \n",
              "343305            61.49                    0.571  16320539.0   \n",
              "343306            61.49                    0.571  16320539.0   \n",
              "343307            61.49                    0.571  16320539.0   \n",
              "343308            61.49                    0.571  16320539.0   \n",
              "343309            61.49                    0.571  16320539.0   \n",
              "\n",
              "        excess_mortality_cumulative_absolute  excess_mortality_cumulative  \\\n",
              "0                                        NaN                          NaN   \n",
              "1                                        NaN                          NaN   \n",
              "2                                        NaN                          NaN   \n",
              "3                                        NaN                          NaN   \n",
              "4                                        NaN                          NaN   \n",
              "...                                      ...                          ...   \n",
              "343305                                   NaN                          NaN   \n",
              "343306                                   NaN                          NaN   \n",
              "343307                                   NaN                          NaN   \n",
              "343308                                   NaN                          NaN   \n",
              "343309                                   NaN                          NaN   \n",
              "\n",
              "        excess_mortality  excess_mortality_cumulative_per_million  \n",
              "0                    NaN                                      NaN  \n",
              "1                    NaN                                      NaN  \n",
              "2                    NaN                                      NaN  \n",
              "3                    NaN                                      NaN  \n",
              "4                    NaN                                      NaN  \n",
              "...                  ...                                      ...  \n",
              "343305               NaN                                      NaN  \n",
              "343306               NaN                                      NaN  \n",
              "343307               NaN                                      NaN  \n",
              "343308               NaN                                      NaN  \n",
              "343309               NaN                                      NaN  \n",
              "\n",
              "[343310 rows x 67 columns]>"
            ]
          },
          "metadata": {},
          "execution_count": 1
        }
      ],
      "source": [
        "import pandas as pd\n",
        "data=pd.read_csv(\"/content/drive/MyDrive/owid-covid-data.csv\")\n",
        "data.head"
      ]
    },
    {
      "cell_type": "code",
      "source": [
        "data.shape"
      ],
      "metadata": {
        "colab": {
          "base_uri": "https://localhost:8080/"
        },
        "id": "zy6fdGw3Fp5s",
        "outputId": "6fe9a419-a857-45c5-d5ec-9252ca4cf5cb"
      },
      "execution_count": 2,
      "outputs": [
        {
          "output_type": "execute_result",
          "data": {
            "text/plain": [
              "(343310, 67)"
            ]
          },
          "metadata": {},
          "execution_count": 2
        }
      ]
    },
    {
      "cell_type": "code",
      "source": [
        "data.columns"
      ],
      "metadata": {
        "colab": {
          "base_uri": "https://localhost:8080/"
        },
        "id": "SownOWUWOLT5",
        "outputId": "3fff9111-1703-4835-bbb1-2ada956b7668"
      },
      "execution_count": 3,
      "outputs": [
        {
          "output_type": "execute_result",
          "data": {
            "text/plain": [
              "Index(['iso_code', 'continent', 'location', 'date', 'total_cases', 'new_cases',\n",
              "       'new_cases_smoothed', 'total_deaths', 'new_deaths',\n",
              "       'new_deaths_smoothed', 'total_cases_per_million',\n",
              "       'new_cases_per_million', 'new_cases_smoothed_per_million',\n",
              "       'total_deaths_per_million', 'new_deaths_per_million',\n",
              "       'new_deaths_smoothed_per_million', 'reproduction_rate', 'icu_patients',\n",
              "       'icu_patients_per_million', 'hosp_patients',\n",
              "       'hosp_patients_per_million', 'weekly_icu_admissions',\n",
              "       'weekly_icu_admissions_per_million', 'weekly_hosp_admissions',\n",
              "       'weekly_hosp_admissions_per_million', 'total_tests', 'new_tests',\n",
              "       'total_tests_per_thousand', 'new_tests_per_thousand',\n",
              "       'new_tests_smoothed', 'new_tests_smoothed_per_thousand',\n",
              "       'positive_rate', 'tests_per_case', 'tests_units', 'total_vaccinations',\n",
              "       'people_vaccinated', 'people_fully_vaccinated', 'total_boosters',\n",
              "       'new_vaccinations', 'new_vaccinations_smoothed',\n",
              "       'total_vaccinations_per_hundred', 'people_vaccinated_per_hundred',\n",
              "       'people_fully_vaccinated_per_hundred', 'total_boosters_per_hundred',\n",
              "       'new_vaccinations_smoothed_per_million',\n",
              "       'new_people_vaccinated_smoothed',\n",
              "       'new_people_vaccinated_smoothed_per_hundred', 'stringency_index',\n",
              "       'population_density', 'median_age', 'aged_65_older', 'aged_70_older',\n",
              "       'gdp_per_capita', 'extreme_poverty', 'cardiovasc_death_rate',\n",
              "       'diabetes_prevalence', 'female_smokers', 'male_smokers',\n",
              "       'handwashing_facilities', 'hospital_beds_per_thousand',\n",
              "       'life_expectancy', 'human_development_index', 'population',\n",
              "       'excess_mortality_cumulative_absolute', 'excess_mortality_cumulative',\n",
              "       'excess_mortality', 'excess_mortality_cumulative_per_million'],\n",
              "      dtype='object')"
            ]
          },
          "metadata": {},
          "execution_count": 3
        }
      ]
    },
    {
      "cell_type": "code",
      "source": [
        "data.dtypes"
      ],
      "metadata": {
        "colab": {
          "base_uri": "https://localhost:8080/"
        },
        "id": "obgqwUPlOM6w",
        "outputId": "4342b499-2c01-4eba-db45-46247b0b4687"
      },
      "execution_count": 4,
      "outputs": [
        {
          "output_type": "execute_result",
          "data": {
            "text/plain": [
              "iso_code                                    object\n",
              "continent                                   object\n",
              "location                                    object\n",
              "date                                        object\n",
              "total_cases                                float64\n",
              "                                            ...   \n",
              "population                                 float64\n",
              "excess_mortality_cumulative_absolute       float64\n",
              "excess_mortality_cumulative                float64\n",
              "excess_mortality                           float64\n",
              "excess_mortality_cumulative_per_million    float64\n",
              "Length: 67, dtype: object"
            ]
          },
          "metadata": {},
          "execution_count": 4
        }
      ]
    },
    {
      "cell_type": "code",
      "source": [
        "pd.set_option('display.max_rows',None)\n",
        "pd.set_option('display.max_columns',None)\n",
        "data.count()"
      ],
      "metadata": {
        "colab": {
          "base_uri": "https://localhost:8080/"
        },
        "id": "5utyiqvDOUIC",
        "outputId": "308fbfae-c2bd-4510-e9b1-7a7cd9afa5b0"
      },
      "execution_count": 5,
      "outputs": [
        {
          "output_type": "execute_result",
          "data": {
            "text/plain": [
              "iso_code                                      343310\n",
              "continent                                     326992\n",
              "location                                      343310\n",
              "date                                          343310\n",
              "total_cases                                   305500\n",
              "new_cases                                     333872\n",
              "new_cases_smoothed                            332613\n",
              "total_deaths                                  284073\n",
              "new_deaths                                    333905\n",
              "new_deaths_smoothed                           332675\n",
              "total_cases_per_million                       305500\n",
              "new_cases_per_million                         333872\n",
              "new_cases_smoothed_per_million                332613\n",
              "total_deaths_per_million                      284073\n",
              "new_deaths_per_million                        333905\n",
              "new_deaths_smoothed_per_million               332675\n",
              "reproduction_rate                             184817\n",
              "icu_patients                                   37445\n",
              "icu_patients_per_million                       37445\n",
              "hosp_patients                                  38585\n",
              "hosp_patients_per_million                      38585\n",
              "weekly_icu_admissions                          10107\n",
              "weekly_icu_admissions_per_million              10107\n",
              "weekly_hosp_admissions                         23034\n",
              "weekly_hosp_admissions_per_million             23034\n",
              "total_tests                                    79387\n",
              "new_tests                                      75403\n",
              "total_tests_per_thousand                       79387\n",
              "new_tests_per_thousand                         75403\n",
              "new_tests_smoothed                            103965\n",
              "new_tests_smoothed_per_thousand               103965\n",
              "positive_rate                                  95927\n",
              "tests_per_case                                 94348\n",
              "tests_units                                   106788\n",
              "total_vaccinations                             78635\n",
              "people_vaccinated                              75270\n",
              "people_fully_vaccinated                        71907\n",
              "total_boosters                                 46935\n",
              "new_vaccinations                               64735\n",
              "new_vaccinations_smoothed                     178761\n",
              "total_vaccinations_per_hundred                 78635\n",
              "people_vaccinated_per_hundred                  75270\n",
              "people_fully_vaccinated_per_hundred            71907\n",
              "total_boosters_per_hundred                     46935\n",
              "new_vaccinations_smoothed_per_million         178761\n",
              "new_people_vaccinated_smoothed                178431\n",
              "new_people_vaccinated_smoothed_per_hundred    178431\n",
              "stringency_index                              197651\n",
              "population_density                            291392\n",
              "median_age                                    271006\n",
              "aged_65_older                                 261516\n",
              "aged_70_older                                 268290\n",
              "gdp_per_capita                                265590\n",
              "extreme_poverty                               171133\n",
              "cardiovasc_death_rate                         266184\n",
              "diabetes_prevalence                           279733\n",
              "female_smokers                                199659\n",
              "male_smokers                                  196941\n",
              "handwashing_facilities                        130379\n",
              "hospital_beds_per_thousand                    234967\n",
              "life_expectancy                               315820\n",
              "human_development_index                       258004\n",
              "population                                    343310\n",
              "excess_mortality_cumulative_absolute           11944\n",
              "excess_mortality_cumulative                    11944\n",
              "excess_mortality                               11944\n",
              "excess_mortality_cumulative_per_million        11944\n",
              "dtype: int64"
            ]
          },
          "metadata": {},
          "execution_count": 5
        }
      ]
    },
    {
      "cell_type": "code",
      "source": [
        "data.info()"
      ],
      "metadata": {
        "colab": {
          "base_uri": "https://localhost:8080/"
        },
        "id": "sYXdz9Y9PTjQ",
        "outputId": "a62a66b7-cf06-4e7f-918a-293b54a575f6"
      },
      "execution_count": 6,
      "outputs": [
        {
          "output_type": "stream",
          "name": "stdout",
          "text": [
            "<class 'pandas.core.frame.DataFrame'>\n",
            "RangeIndex: 343310 entries, 0 to 343309\n",
            "Data columns (total 67 columns):\n",
            " #   Column                                      Non-Null Count   Dtype  \n",
            "---  ------                                      --------------   -----  \n",
            " 0   iso_code                                    343310 non-null  object \n",
            " 1   continent                                   326992 non-null  object \n",
            " 2   location                                    343310 non-null  object \n",
            " 3   date                                        343310 non-null  object \n",
            " 4   total_cases                                 305500 non-null  float64\n",
            " 5   new_cases                                   333872 non-null  float64\n",
            " 6   new_cases_smoothed                          332613 non-null  float64\n",
            " 7   total_deaths                                284073 non-null  float64\n",
            " 8   new_deaths                                  333905 non-null  float64\n",
            " 9   new_deaths_smoothed                         332675 non-null  float64\n",
            " 10  total_cases_per_million                     305500 non-null  float64\n",
            " 11  new_cases_per_million                       333872 non-null  float64\n",
            " 12  new_cases_smoothed_per_million              332613 non-null  float64\n",
            " 13  total_deaths_per_million                    284073 non-null  float64\n",
            " 14  new_deaths_per_million                      333905 non-null  float64\n",
            " 15  new_deaths_smoothed_per_million             332675 non-null  float64\n",
            " 16  reproduction_rate                           184817 non-null  float64\n",
            " 17  icu_patients                                37445 non-null   float64\n",
            " 18  icu_patients_per_million                    37445 non-null   float64\n",
            " 19  hosp_patients                               38585 non-null   float64\n",
            " 20  hosp_patients_per_million                   38585 non-null   float64\n",
            " 21  weekly_icu_admissions                       10107 non-null   float64\n",
            " 22  weekly_icu_admissions_per_million           10107 non-null   float64\n",
            " 23  weekly_hosp_admissions                      23034 non-null   float64\n",
            " 24  weekly_hosp_admissions_per_million          23034 non-null   float64\n",
            " 25  total_tests                                 79387 non-null   float64\n",
            " 26  new_tests                                   75403 non-null   float64\n",
            " 27  total_tests_per_thousand                    79387 non-null   float64\n",
            " 28  new_tests_per_thousand                      75403 non-null   float64\n",
            " 29  new_tests_smoothed                          103965 non-null  float64\n",
            " 30  new_tests_smoothed_per_thousand             103965 non-null  float64\n",
            " 31  positive_rate                               95927 non-null   float64\n",
            " 32  tests_per_case                              94348 non-null   float64\n",
            " 33  tests_units                                 106788 non-null  object \n",
            " 34  total_vaccinations                          78635 non-null   float64\n",
            " 35  people_vaccinated                           75270 non-null   float64\n",
            " 36  people_fully_vaccinated                     71907 non-null   float64\n",
            " 37  total_boosters                              46935 non-null   float64\n",
            " 38  new_vaccinations                            64735 non-null   float64\n",
            " 39  new_vaccinations_smoothed                   178761 non-null  float64\n",
            " 40  total_vaccinations_per_hundred              78635 non-null   float64\n",
            " 41  people_vaccinated_per_hundred               75270 non-null   float64\n",
            " 42  people_fully_vaccinated_per_hundred         71907 non-null   float64\n",
            " 43  total_boosters_per_hundred                  46935 non-null   float64\n",
            " 44  new_vaccinations_smoothed_per_million       178761 non-null  float64\n",
            " 45  new_people_vaccinated_smoothed              178431 non-null  float64\n",
            " 46  new_people_vaccinated_smoothed_per_hundred  178431 non-null  float64\n",
            " 47  stringency_index                            197651 non-null  float64\n",
            " 48  population_density                          291392 non-null  float64\n",
            " 49  median_age                                  271006 non-null  float64\n",
            " 50  aged_65_older                               261516 non-null  float64\n",
            " 51  aged_70_older                               268290 non-null  float64\n",
            " 52  gdp_per_capita                              265590 non-null  float64\n",
            " 53  extreme_poverty                             171133 non-null  float64\n",
            " 54  cardiovasc_death_rate                       266184 non-null  float64\n",
            " 55  diabetes_prevalence                         279733 non-null  float64\n",
            " 56  female_smokers                              199659 non-null  float64\n",
            " 57  male_smokers                                196941 non-null  float64\n",
            " 58  handwashing_facilities                      130379 non-null  float64\n",
            " 59  hospital_beds_per_thousand                  234967 non-null  float64\n",
            " 60  life_expectancy                             315820 non-null  float64\n",
            " 61  human_development_index                     258004 non-null  float64\n",
            " 62  population                                  343310 non-null  float64\n",
            " 63  excess_mortality_cumulative_absolute        11944 non-null   float64\n",
            " 64  excess_mortality_cumulative                 11944 non-null   float64\n",
            " 65  excess_mortality                            11944 non-null   float64\n",
            " 66  excess_mortality_cumulative_per_million     11944 non-null   float64\n",
            "dtypes: float64(62), object(5)\n",
            "memory usage: 175.5+ MB\n"
          ]
        }
      ]
    },
    {
      "cell_type": "code",
      "source": [
        "a=data['continent']\n"
      ],
      "metadata": {
        "id": "PC6pO9oisPTs"
      },
      "execution_count": 7,
      "outputs": []
    },
    {
      "cell_type": "code",
      "source": [
        "b=data[['total_cases_per_million','hosp_patients_per_million','icu_patients_per_million','total_tests','positive_rate','total_deaths_per_million']]\n"
      ],
      "metadata": {
        "id": "mjBzrv4Pv2ol"
      },
      "execution_count": 8,
      "outputs": []
    },
    {
      "cell_type": "code",
      "source": [
        "c=b.fillna(0)"
      ],
      "metadata": {
        "id": "VieKgwAf57yG"
      },
      "execution_count": 9,
      "outputs": []
    },
    {
      "cell_type": "code",
      "source": [
        "case=pd.concat([a,c],axis=1)"
      ],
      "metadata": {
        "id": "DBeU8-7Gy8tR"
      },
      "execution_count": 24,
      "outputs": []
    },
    {
      "cell_type": "code",
      "source": [
        "case.head()"
      ],
      "metadata": {
        "id": "GovRYhSaAzhb",
        "colab": {
          "base_uri": "https://localhost:8080/",
          "height": 206
        },
        "outputId": "f49d511a-1bca-484a-fde0-dd2053177170"
      },
      "execution_count": 26,
      "outputs": [
        {
          "output_type": "execute_result",
          "data": {
            "text/plain": [
              "  continent  total_cases_per_million  hosp_patients_per_million  \\\n",
              "0      Asia                      0.0                        0.0   \n",
              "1      Asia                      0.0                        0.0   \n",
              "2      Asia                      0.0                        0.0   \n",
              "3      Asia                      0.0                        0.0   \n",
              "4      Asia                      0.0                        0.0   \n",
              "\n",
              "   icu_patients_per_million  total_tests  positive_rate  \\\n",
              "0                       0.0          0.0            0.0   \n",
              "1                       0.0          0.0            0.0   \n",
              "2                       0.0          0.0            0.0   \n",
              "3                       0.0          0.0            0.0   \n",
              "4                       0.0          0.0            0.0   \n",
              "\n",
              "   total_deaths_per_million  \n",
              "0                       0.0  \n",
              "1                       0.0  \n",
              "2                       0.0  \n",
              "3                       0.0  \n",
              "4                       0.0  "
            ],
            "text/html": [
              "\n",
              "  <div id=\"df-cf92d742-d7b4-48e3-b918-41095f39d0bb\" class=\"colab-df-container\">\n",
              "    <div>\n",
              "<style scoped>\n",
              "    .dataframe tbody tr th:only-of-type {\n",
              "        vertical-align: middle;\n",
              "    }\n",
              "\n",
              "    .dataframe tbody tr th {\n",
              "        vertical-align: top;\n",
              "    }\n",
              "\n",
              "    .dataframe thead th {\n",
              "        text-align: right;\n",
              "    }\n",
              "</style>\n",
              "<table border=\"1\" class=\"dataframe\">\n",
              "  <thead>\n",
              "    <tr style=\"text-align: right;\">\n",
              "      <th></th>\n",
              "      <th>continent</th>\n",
              "      <th>total_cases_per_million</th>\n",
              "      <th>hosp_patients_per_million</th>\n",
              "      <th>icu_patients_per_million</th>\n",
              "      <th>total_tests</th>\n",
              "      <th>positive_rate</th>\n",
              "      <th>total_deaths_per_million</th>\n",
              "    </tr>\n",
              "  </thead>\n",
              "  <tbody>\n",
              "    <tr>\n",
              "      <th>0</th>\n",
              "      <td>Asia</td>\n",
              "      <td>0.0</td>\n",
              "      <td>0.0</td>\n",
              "      <td>0.0</td>\n",
              "      <td>0.0</td>\n",
              "      <td>0.0</td>\n",
              "      <td>0.0</td>\n",
              "    </tr>\n",
              "    <tr>\n",
              "      <th>1</th>\n",
              "      <td>Asia</td>\n",
              "      <td>0.0</td>\n",
              "      <td>0.0</td>\n",
              "      <td>0.0</td>\n",
              "      <td>0.0</td>\n",
              "      <td>0.0</td>\n",
              "      <td>0.0</td>\n",
              "    </tr>\n",
              "    <tr>\n",
              "      <th>2</th>\n",
              "      <td>Asia</td>\n",
              "      <td>0.0</td>\n",
              "      <td>0.0</td>\n",
              "      <td>0.0</td>\n",
              "      <td>0.0</td>\n",
              "      <td>0.0</td>\n",
              "      <td>0.0</td>\n",
              "    </tr>\n",
              "    <tr>\n",
              "      <th>3</th>\n",
              "      <td>Asia</td>\n",
              "      <td>0.0</td>\n",
              "      <td>0.0</td>\n",
              "      <td>0.0</td>\n",
              "      <td>0.0</td>\n",
              "      <td>0.0</td>\n",
              "      <td>0.0</td>\n",
              "    </tr>\n",
              "    <tr>\n",
              "      <th>4</th>\n",
              "      <td>Asia</td>\n",
              "      <td>0.0</td>\n",
              "      <td>0.0</td>\n",
              "      <td>0.0</td>\n",
              "      <td>0.0</td>\n",
              "      <td>0.0</td>\n",
              "      <td>0.0</td>\n",
              "    </tr>\n",
              "  </tbody>\n",
              "</table>\n",
              "</div>\n",
              "    <div class=\"colab-df-buttons\">\n",
              "\n",
              "  <div class=\"colab-df-container\">\n",
              "    <button class=\"colab-df-convert\" onclick=\"convertToInteractive('df-cf92d742-d7b4-48e3-b918-41095f39d0bb')\"\n",
              "            title=\"Convert this dataframe to an interactive table.\"\n",
              "            style=\"display:none;\">\n",
              "\n",
              "  <svg xmlns=\"http://www.w3.org/2000/svg\" height=\"24px\" viewBox=\"0 -960 960 960\">\n",
              "    <path d=\"M120-120v-720h720v720H120Zm60-500h600v-160H180v160Zm220 220h160v-160H400v160Zm0 220h160v-160H400v160ZM180-400h160v-160H180v160Zm440 0h160v-160H620v160ZM180-180h160v-160H180v160Zm440 0h160v-160H620v160Z\"/>\n",
              "  </svg>\n",
              "    </button>\n",
              "\n",
              "  <style>\n",
              "    .colab-df-container {\n",
              "      display:flex;\n",
              "      gap: 12px;\n",
              "    }\n",
              "\n",
              "    .colab-df-convert {\n",
              "      background-color: #E8F0FE;\n",
              "      border: none;\n",
              "      border-radius: 50%;\n",
              "      cursor: pointer;\n",
              "      display: none;\n",
              "      fill: #1967D2;\n",
              "      height: 32px;\n",
              "      padding: 0 0 0 0;\n",
              "      width: 32px;\n",
              "    }\n",
              "\n",
              "    .colab-df-convert:hover {\n",
              "      background-color: #E2EBFA;\n",
              "      box-shadow: 0px 1px 2px rgba(60, 64, 67, 0.3), 0px 1px 3px 1px rgba(60, 64, 67, 0.15);\n",
              "      fill: #174EA6;\n",
              "    }\n",
              "\n",
              "    .colab-df-buttons div {\n",
              "      margin-bottom: 4px;\n",
              "    }\n",
              "\n",
              "    [theme=dark] .colab-df-convert {\n",
              "      background-color: #3B4455;\n",
              "      fill: #D2E3FC;\n",
              "    }\n",
              "\n",
              "    [theme=dark] .colab-df-convert:hover {\n",
              "      background-color: #434B5C;\n",
              "      box-shadow: 0px 1px 3px 1px rgba(0, 0, 0, 0.15);\n",
              "      filter: drop-shadow(0px 1px 2px rgba(0, 0, 0, 0.3));\n",
              "      fill: #FFFFFF;\n",
              "    }\n",
              "  </style>\n",
              "\n",
              "    <script>\n",
              "      const buttonEl =\n",
              "        document.querySelector('#df-cf92d742-d7b4-48e3-b918-41095f39d0bb button.colab-df-convert');\n",
              "      buttonEl.style.display =\n",
              "        google.colab.kernel.accessAllowed ? 'block' : 'none';\n",
              "\n",
              "      async function convertToInteractive(key) {\n",
              "        const element = document.querySelector('#df-cf92d742-d7b4-48e3-b918-41095f39d0bb');\n",
              "        const dataTable =\n",
              "          await google.colab.kernel.invokeFunction('convertToInteractive',\n",
              "                                                    [key], {});\n",
              "        if (!dataTable) return;\n",
              "\n",
              "        const docLinkHtml = 'Like what you see? Visit the ' +\n",
              "          '<a target=\"_blank\" href=https://colab.research.google.com/notebooks/data_table.ipynb>data table notebook</a>'\n",
              "          + ' to learn more about interactive tables.';\n",
              "        element.innerHTML = '';\n",
              "        dataTable['output_type'] = 'display_data';\n",
              "        await google.colab.output.renderOutput(dataTable, element);\n",
              "        const docLink = document.createElement('div');\n",
              "        docLink.innerHTML = docLinkHtml;\n",
              "        element.appendChild(docLink);\n",
              "      }\n",
              "    </script>\n",
              "  </div>\n",
              "\n",
              "\n",
              "<div id=\"df-03b160c8-4f69-45ca-ba39-b8510489cc6a\">\n",
              "  <button class=\"colab-df-quickchart\" onclick=\"quickchart('df-03b160c8-4f69-45ca-ba39-b8510489cc6a')\"\n",
              "            title=\"Suggest charts.\"\n",
              "            style=\"display:none;\">\n",
              "\n",
              "<svg xmlns=\"http://www.w3.org/2000/svg\" height=\"24px\"viewBox=\"0 0 24 24\"\n",
              "     width=\"24px\">\n",
              "    <g>\n",
              "        <path d=\"M19 3H5c-1.1 0-2 .9-2 2v14c0 1.1.9 2 2 2h14c1.1 0 2-.9 2-2V5c0-1.1-.9-2-2-2zM9 17H7v-7h2v7zm4 0h-2V7h2v10zm4 0h-2v-4h2v4z\"/>\n",
              "    </g>\n",
              "</svg>\n",
              "  </button>\n",
              "\n",
              "<style>\n",
              "  .colab-df-quickchart {\n",
              "      --bg-color: #E8F0FE;\n",
              "      --fill-color: #1967D2;\n",
              "      --hover-bg-color: #E2EBFA;\n",
              "      --hover-fill-color: #174EA6;\n",
              "      --disabled-fill-color: #AAA;\n",
              "      --disabled-bg-color: #DDD;\n",
              "  }\n",
              "\n",
              "  [theme=dark] .colab-df-quickchart {\n",
              "      --bg-color: #3B4455;\n",
              "      --fill-color: #D2E3FC;\n",
              "      --hover-bg-color: #434B5C;\n",
              "      --hover-fill-color: #FFFFFF;\n",
              "      --disabled-bg-color: #3B4455;\n",
              "      --disabled-fill-color: #666;\n",
              "  }\n",
              "\n",
              "  .colab-df-quickchart {\n",
              "    background-color: var(--bg-color);\n",
              "    border: none;\n",
              "    border-radius: 50%;\n",
              "    cursor: pointer;\n",
              "    display: none;\n",
              "    fill: var(--fill-color);\n",
              "    height: 32px;\n",
              "    padding: 0;\n",
              "    width: 32px;\n",
              "  }\n",
              "\n",
              "  .colab-df-quickchart:hover {\n",
              "    background-color: var(--hover-bg-color);\n",
              "    box-shadow: 0 1px 2px rgba(60, 64, 67, 0.3), 0 1px 3px 1px rgba(60, 64, 67, 0.15);\n",
              "    fill: var(--button-hover-fill-color);\n",
              "  }\n",
              "\n",
              "  .colab-df-quickchart-complete:disabled,\n",
              "  .colab-df-quickchart-complete:disabled:hover {\n",
              "    background-color: var(--disabled-bg-color);\n",
              "    fill: var(--disabled-fill-color);\n",
              "    box-shadow: none;\n",
              "  }\n",
              "\n",
              "  .colab-df-spinner {\n",
              "    border: 2px solid var(--fill-color);\n",
              "    border-color: transparent;\n",
              "    border-bottom-color: var(--fill-color);\n",
              "    animation:\n",
              "      spin 1s steps(1) infinite;\n",
              "  }\n",
              "\n",
              "  @keyframes spin {\n",
              "    0% {\n",
              "      border-color: transparent;\n",
              "      border-bottom-color: var(--fill-color);\n",
              "      border-left-color: var(--fill-color);\n",
              "    }\n",
              "    20% {\n",
              "      border-color: transparent;\n",
              "      border-left-color: var(--fill-color);\n",
              "      border-top-color: var(--fill-color);\n",
              "    }\n",
              "    30% {\n",
              "      border-color: transparent;\n",
              "      border-left-color: var(--fill-color);\n",
              "      border-top-color: var(--fill-color);\n",
              "      border-right-color: var(--fill-color);\n",
              "    }\n",
              "    40% {\n",
              "      border-color: transparent;\n",
              "      border-right-color: var(--fill-color);\n",
              "      border-top-color: var(--fill-color);\n",
              "    }\n",
              "    60% {\n",
              "      border-color: transparent;\n",
              "      border-right-color: var(--fill-color);\n",
              "    }\n",
              "    80% {\n",
              "      border-color: transparent;\n",
              "      border-right-color: var(--fill-color);\n",
              "      border-bottom-color: var(--fill-color);\n",
              "    }\n",
              "    90% {\n",
              "      border-color: transparent;\n",
              "      border-bottom-color: var(--fill-color);\n",
              "    }\n",
              "  }\n",
              "</style>\n",
              "\n",
              "  <script>\n",
              "    async function quickchart(key) {\n",
              "      const quickchartButtonEl =\n",
              "        document.querySelector('#' + key + ' button');\n",
              "      quickchartButtonEl.disabled = true;  // To prevent multiple clicks.\n",
              "      quickchartButtonEl.classList.add('colab-df-spinner');\n",
              "      try {\n",
              "        const charts = await google.colab.kernel.invokeFunction(\n",
              "            'suggestCharts', [key], {});\n",
              "      } catch (error) {\n",
              "        console.error('Error during call to suggestCharts:', error);\n",
              "      }\n",
              "      quickchartButtonEl.classList.remove('colab-df-spinner');\n",
              "      quickchartButtonEl.classList.add('colab-df-quickchart-complete');\n",
              "    }\n",
              "    (() => {\n",
              "      let quickchartButtonEl =\n",
              "        document.querySelector('#df-03b160c8-4f69-45ca-ba39-b8510489cc6a button');\n",
              "      quickchartButtonEl.style.display =\n",
              "        google.colab.kernel.accessAllowed ? 'block' : 'none';\n",
              "    })();\n",
              "  </script>\n",
              "</div>\n",
              "    </div>\n",
              "  </div>\n"
            ]
          },
          "metadata": {},
          "execution_count": 26
        }
      ]
    },
    {
      "cell_type": "code",
      "source": [
        "x=case.dropna()"
      ],
      "metadata": {
        "id": "Tdj_Oa-PyFSB"
      },
      "execution_count": 34,
      "outputs": []
    },
    {
      "cell_type": "code",
      "source": [
        "y=x.drop_duplicates()"
      ],
      "metadata": {
        "id": "xsZlF0S2zTHn"
      },
      "execution_count": 35,
      "outputs": []
    },
    {
      "cell_type": "code",
      "source": [
        "y.shape"
      ],
      "metadata": {
        "colab": {
          "base_uri": "https://localhost:8080/"
        },
        "id": "UQeUshT5z2Z3",
        "outputId": "1f6d5082-3e2a-497f-bd34-7a2a63b8fc59"
      },
      "execution_count": 36,
      "outputs": [
        {
          "output_type": "execute_result",
          "data": {
            "text/plain": [
              "(188179, 7)"
            ]
          },
          "metadata": {},
          "execution_count": 36
        }
      ]
    },
    {
      "cell_type": "code",
      "source": [
        "y.info()"
      ],
      "metadata": {
        "colab": {
          "base_uri": "https://localhost:8080/"
        },
        "id": "kZTJV1Px0MMo",
        "outputId": "f60b57f3-8fba-4d6d-d7b9-7ad59881ef74"
      },
      "execution_count": 37,
      "outputs": [
        {
          "output_type": "stream",
          "name": "stdout",
          "text": [
            "<class 'pandas.core.frame.DataFrame'>\n",
            "Int64Index: 188179 entries, 0 to 343304\n",
            "Data columns (total 7 columns):\n",
            " #   Column                     Non-Null Count   Dtype  \n",
            "---  ------                     --------------   -----  \n",
            " 0   continent                  188179 non-null  object \n",
            " 1   total_cases_per_million    188179 non-null  float64\n",
            " 2   hosp_patients_per_million  188179 non-null  float64\n",
            " 3   icu_patients_per_million   188179 non-null  float64\n",
            " 4   total_tests                188179 non-null  float64\n",
            " 5   positive_rate              188179 non-null  float64\n",
            " 6   total_deaths_per_million   188179 non-null  float64\n",
            "dtypes: float64(6), object(1)\n",
            "memory usage: 11.5+ MB\n"
          ]
        }
      ]
    },
    {
      "cell_type": "markdown",
      "source": [],
      "metadata": {
        "id": "uoX9i8yz9Ysr"
      }
    },
    {
      "cell_type": "markdown",
      "source": [
        "first data set -y\n",
        "related to general outline"
      ],
      "metadata": {
        "id": "cNs14kpH97XI"
      }
    },
    {
      "cell_type": "code",
      "source": [
        "print(y)"
      ],
      "metadata": {
        "colab": {
          "base_uri": "https://localhost:8080/"
        },
        "id": "PfPYHjmY-ES1",
        "outputId": "f95b5612-b393-4b7f-acbb-8e370e98e481"
      },
      "execution_count": 40,
      "outputs": [
        {
          "output_type": "stream",
          "name": "stderr",
          "text": [
            "IOPub data rate exceeded.\n",
            "The notebook server will temporarily stop sending output\n",
            "to the client in order to avoid crashing it.\n",
            "To change this limit, set the config variable\n",
            "`--NotebookApp.iopub_data_rate_limit`.\n",
            "\n",
            "Current values:\n",
            "NotebookApp.iopub_data_rate_limit=1000000.0 (bytes/sec)\n",
            "NotebookApp.rate_limit_window=3.0 (secs)\n",
            "\n"
          ]
        }
      ]
    },
    {
      "cell_type": "code",
      "source": [],
      "metadata": {
        "id": "ztVjDzWA-HF7"
      },
      "execution_count": null,
      "outputs": []
    },
    {
      "cell_type": "code",
      "source": [],
      "metadata": {
        "id": "p7-cYWfP-b--"
      },
      "execution_count": null,
      "outputs": []
    },
    {
      "cell_type": "markdown",
      "source": [
        "part 2 data set"
      ],
      "metadata": {
        "id": "2B5yO49y-Xd-"
      }
    },
    {
      "cell_type": "code",
      "source": [
        "B=data[['population_density','total_vaccinations','people_vaccinated','people_fully_vaccinated','total_boosters']]"
      ],
      "metadata": {
        "id": "bunFY9mRA08q"
      },
      "execution_count": 43,
      "outputs": []
    },
    {
      "cell_type": "code",
      "source": [
        "C=B.fillna(0)"
      ],
      "metadata": {
        "id": "jUe9vksVCOJo"
      },
      "execution_count": 44,
      "outputs": []
    },
    {
      "cell_type": "code",
      "source": [
        "vac=pd.concat([a,C],axis=1)"
      ],
      "metadata": {
        "id": "Hlzr9FQ9CWRn"
      },
      "execution_count": 45,
      "outputs": []
    },
    {
      "cell_type": "code",
      "source": [
        "vac.head()"
      ],
      "metadata": {
        "colab": {
          "base_uri": "https://localhost:8080/",
          "height": 206
        },
        "id": "vETG1sZwCnXQ",
        "outputId": "813f79c5-0baf-44ee-c41b-fa16dde33321"
      },
      "execution_count": 46,
      "outputs": [
        {
          "output_type": "execute_result",
          "data": {
            "text/plain": [
              "  continent  population_density  total_vaccinations  people_vaccinated  \\\n",
              "0      Asia              54.422                 0.0                0.0   \n",
              "1      Asia              54.422                 0.0                0.0   \n",
              "2      Asia              54.422                 0.0                0.0   \n",
              "3      Asia              54.422                 0.0                0.0   \n",
              "4      Asia              54.422                 0.0                0.0   \n",
              "\n",
              "   people_fully_vaccinated  total_boosters  \n",
              "0                      0.0             0.0  \n",
              "1                      0.0             0.0  \n",
              "2                      0.0             0.0  \n",
              "3                      0.0             0.0  \n",
              "4                      0.0             0.0  "
            ],
            "text/html": [
              "\n",
              "  <div id=\"df-09903c8c-93c9-4f34-9c24-8f8c6b2f7f13\" class=\"colab-df-container\">\n",
              "    <div>\n",
              "<style scoped>\n",
              "    .dataframe tbody tr th:only-of-type {\n",
              "        vertical-align: middle;\n",
              "    }\n",
              "\n",
              "    .dataframe tbody tr th {\n",
              "        vertical-align: top;\n",
              "    }\n",
              "\n",
              "    .dataframe thead th {\n",
              "        text-align: right;\n",
              "    }\n",
              "</style>\n",
              "<table border=\"1\" class=\"dataframe\">\n",
              "  <thead>\n",
              "    <tr style=\"text-align: right;\">\n",
              "      <th></th>\n",
              "      <th>continent</th>\n",
              "      <th>population_density</th>\n",
              "      <th>total_vaccinations</th>\n",
              "      <th>people_vaccinated</th>\n",
              "      <th>people_fully_vaccinated</th>\n",
              "      <th>total_boosters</th>\n",
              "    </tr>\n",
              "  </thead>\n",
              "  <tbody>\n",
              "    <tr>\n",
              "      <th>0</th>\n",
              "      <td>Asia</td>\n",
              "      <td>54.422</td>\n",
              "      <td>0.0</td>\n",
              "      <td>0.0</td>\n",
              "      <td>0.0</td>\n",
              "      <td>0.0</td>\n",
              "    </tr>\n",
              "    <tr>\n",
              "      <th>1</th>\n",
              "      <td>Asia</td>\n",
              "      <td>54.422</td>\n",
              "      <td>0.0</td>\n",
              "      <td>0.0</td>\n",
              "      <td>0.0</td>\n",
              "      <td>0.0</td>\n",
              "    </tr>\n",
              "    <tr>\n",
              "      <th>2</th>\n",
              "      <td>Asia</td>\n",
              "      <td>54.422</td>\n",
              "      <td>0.0</td>\n",
              "      <td>0.0</td>\n",
              "      <td>0.0</td>\n",
              "      <td>0.0</td>\n",
              "    </tr>\n",
              "    <tr>\n",
              "      <th>3</th>\n",
              "      <td>Asia</td>\n",
              "      <td>54.422</td>\n",
              "      <td>0.0</td>\n",
              "      <td>0.0</td>\n",
              "      <td>0.0</td>\n",
              "      <td>0.0</td>\n",
              "    </tr>\n",
              "    <tr>\n",
              "      <th>4</th>\n",
              "      <td>Asia</td>\n",
              "      <td>54.422</td>\n",
              "      <td>0.0</td>\n",
              "      <td>0.0</td>\n",
              "      <td>0.0</td>\n",
              "      <td>0.0</td>\n",
              "    </tr>\n",
              "  </tbody>\n",
              "</table>\n",
              "</div>\n",
              "    <div class=\"colab-df-buttons\">\n",
              "\n",
              "  <div class=\"colab-df-container\">\n",
              "    <button class=\"colab-df-convert\" onclick=\"convertToInteractive('df-09903c8c-93c9-4f34-9c24-8f8c6b2f7f13')\"\n",
              "            title=\"Convert this dataframe to an interactive table.\"\n",
              "            style=\"display:none;\">\n",
              "\n",
              "  <svg xmlns=\"http://www.w3.org/2000/svg\" height=\"24px\" viewBox=\"0 -960 960 960\">\n",
              "    <path d=\"M120-120v-720h720v720H120Zm60-500h600v-160H180v160Zm220 220h160v-160H400v160Zm0 220h160v-160H400v160ZM180-400h160v-160H180v160Zm440 0h160v-160H620v160ZM180-180h160v-160H180v160Zm440 0h160v-160H620v160Z\"/>\n",
              "  </svg>\n",
              "    </button>\n",
              "\n",
              "  <style>\n",
              "    .colab-df-container {\n",
              "      display:flex;\n",
              "      gap: 12px;\n",
              "    }\n",
              "\n",
              "    .colab-df-convert {\n",
              "      background-color: #E8F0FE;\n",
              "      border: none;\n",
              "      border-radius: 50%;\n",
              "      cursor: pointer;\n",
              "      display: none;\n",
              "      fill: #1967D2;\n",
              "      height: 32px;\n",
              "      padding: 0 0 0 0;\n",
              "      width: 32px;\n",
              "    }\n",
              "\n",
              "    .colab-df-convert:hover {\n",
              "      background-color: #E2EBFA;\n",
              "      box-shadow: 0px 1px 2px rgba(60, 64, 67, 0.3), 0px 1px 3px 1px rgba(60, 64, 67, 0.15);\n",
              "      fill: #174EA6;\n",
              "    }\n",
              "\n",
              "    .colab-df-buttons div {\n",
              "      margin-bottom: 4px;\n",
              "    }\n",
              "\n",
              "    [theme=dark] .colab-df-convert {\n",
              "      background-color: #3B4455;\n",
              "      fill: #D2E3FC;\n",
              "    }\n",
              "\n",
              "    [theme=dark] .colab-df-convert:hover {\n",
              "      background-color: #434B5C;\n",
              "      box-shadow: 0px 1px 3px 1px rgba(0, 0, 0, 0.15);\n",
              "      filter: drop-shadow(0px 1px 2px rgba(0, 0, 0, 0.3));\n",
              "      fill: #FFFFFF;\n",
              "    }\n",
              "  </style>\n",
              "\n",
              "    <script>\n",
              "      const buttonEl =\n",
              "        document.querySelector('#df-09903c8c-93c9-4f34-9c24-8f8c6b2f7f13 button.colab-df-convert');\n",
              "      buttonEl.style.display =\n",
              "        google.colab.kernel.accessAllowed ? 'block' : 'none';\n",
              "\n",
              "      async function convertToInteractive(key) {\n",
              "        const element = document.querySelector('#df-09903c8c-93c9-4f34-9c24-8f8c6b2f7f13');\n",
              "        const dataTable =\n",
              "          await google.colab.kernel.invokeFunction('convertToInteractive',\n",
              "                                                    [key], {});\n",
              "        if (!dataTable) return;\n",
              "\n",
              "        const docLinkHtml = 'Like what you see? Visit the ' +\n",
              "          '<a target=\"_blank\" href=https://colab.research.google.com/notebooks/data_table.ipynb>data table notebook</a>'\n",
              "          + ' to learn more about interactive tables.';\n",
              "        element.innerHTML = '';\n",
              "        dataTable['output_type'] = 'display_data';\n",
              "        await google.colab.output.renderOutput(dataTable, element);\n",
              "        const docLink = document.createElement('div');\n",
              "        docLink.innerHTML = docLinkHtml;\n",
              "        element.appendChild(docLink);\n",
              "      }\n",
              "    </script>\n",
              "  </div>\n",
              "\n",
              "\n",
              "<div id=\"df-efd30ad7-a2db-4bd9-b531-68ecc0cf7761\">\n",
              "  <button class=\"colab-df-quickchart\" onclick=\"quickchart('df-efd30ad7-a2db-4bd9-b531-68ecc0cf7761')\"\n",
              "            title=\"Suggest charts.\"\n",
              "            style=\"display:none;\">\n",
              "\n",
              "<svg xmlns=\"http://www.w3.org/2000/svg\" height=\"24px\"viewBox=\"0 0 24 24\"\n",
              "     width=\"24px\">\n",
              "    <g>\n",
              "        <path d=\"M19 3H5c-1.1 0-2 .9-2 2v14c0 1.1.9 2 2 2h14c1.1 0 2-.9 2-2V5c0-1.1-.9-2-2-2zM9 17H7v-7h2v7zm4 0h-2V7h2v10zm4 0h-2v-4h2v4z\"/>\n",
              "    </g>\n",
              "</svg>\n",
              "  </button>\n",
              "\n",
              "<style>\n",
              "  .colab-df-quickchart {\n",
              "      --bg-color: #E8F0FE;\n",
              "      --fill-color: #1967D2;\n",
              "      --hover-bg-color: #E2EBFA;\n",
              "      --hover-fill-color: #174EA6;\n",
              "      --disabled-fill-color: #AAA;\n",
              "      --disabled-bg-color: #DDD;\n",
              "  }\n",
              "\n",
              "  [theme=dark] .colab-df-quickchart {\n",
              "      --bg-color: #3B4455;\n",
              "      --fill-color: #D2E3FC;\n",
              "      --hover-bg-color: #434B5C;\n",
              "      --hover-fill-color: #FFFFFF;\n",
              "      --disabled-bg-color: #3B4455;\n",
              "      --disabled-fill-color: #666;\n",
              "  }\n",
              "\n",
              "  .colab-df-quickchart {\n",
              "    background-color: var(--bg-color);\n",
              "    border: none;\n",
              "    border-radius: 50%;\n",
              "    cursor: pointer;\n",
              "    display: none;\n",
              "    fill: var(--fill-color);\n",
              "    height: 32px;\n",
              "    padding: 0;\n",
              "    width: 32px;\n",
              "  }\n",
              "\n",
              "  .colab-df-quickchart:hover {\n",
              "    background-color: var(--hover-bg-color);\n",
              "    box-shadow: 0 1px 2px rgba(60, 64, 67, 0.3), 0 1px 3px 1px rgba(60, 64, 67, 0.15);\n",
              "    fill: var(--button-hover-fill-color);\n",
              "  }\n",
              "\n",
              "  .colab-df-quickchart-complete:disabled,\n",
              "  .colab-df-quickchart-complete:disabled:hover {\n",
              "    background-color: var(--disabled-bg-color);\n",
              "    fill: var(--disabled-fill-color);\n",
              "    box-shadow: none;\n",
              "  }\n",
              "\n",
              "  .colab-df-spinner {\n",
              "    border: 2px solid var(--fill-color);\n",
              "    border-color: transparent;\n",
              "    border-bottom-color: var(--fill-color);\n",
              "    animation:\n",
              "      spin 1s steps(1) infinite;\n",
              "  }\n",
              "\n",
              "  @keyframes spin {\n",
              "    0% {\n",
              "      border-color: transparent;\n",
              "      border-bottom-color: var(--fill-color);\n",
              "      border-left-color: var(--fill-color);\n",
              "    }\n",
              "    20% {\n",
              "      border-color: transparent;\n",
              "      border-left-color: var(--fill-color);\n",
              "      border-top-color: var(--fill-color);\n",
              "    }\n",
              "    30% {\n",
              "      border-color: transparent;\n",
              "      border-left-color: var(--fill-color);\n",
              "      border-top-color: var(--fill-color);\n",
              "      border-right-color: var(--fill-color);\n",
              "    }\n",
              "    40% {\n",
              "      border-color: transparent;\n",
              "      border-right-color: var(--fill-color);\n",
              "      border-top-color: var(--fill-color);\n",
              "    }\n",
              "    60% {\n",
              "      border-color: transparent;\n",
              "      border-right-color: var(--fill-color);\n",
              "    }\n",
              "    80% {\n",
              "      border-color: transparent;\n",
              "      border-right-color: var(--fill-color);\n",
              "      border-bottom-color: var(--fill-color);\n",
              "    }\n",
              "    90% {\n",
              "      border-color: transparent;\n",
              "      border-bottom-color: var(--fill-color);\n",
              "    }\n",
              "  }\n",
              "</style>\n",
              "\n",
              "  <script>\n",
              "    async function quickchart(key) {\n",
              "      const quickchartButtonEl =\n",
              "        document.querySelector('#' + key + ' button');\n",
              "      quickchartButtonEl.disabled = true;  // To prevent multiple clicks.\n",
              "      quickchartButtonEl.classList.add('colab-df-spinner');\n",
              "      try {\n",
              "        const charts = await google.colab.kernel.invokeFunction(\n",
              "            'suggestCharts', [key], {});\n",
              "      } catch (error) {\n",
              "        console.error('Error during call to suggestCharts:', error);\n",
              "      }\n",
              "      quickchartButtonEl.classList.remove('colab-df-spinner');\n",
              "      quickchartButtonEl.classList.add('colab-df-quickchart-complete');\n",
              "    }\n",
              "    (() => {\n",
              "      let quickchartButtonEl =\n",
              "        document.querySelector('#df-efd30ad7-a2db-4bd9-b531-68ecc0cf7761 button');\n",
              "      quickchartButtonEl.style.display =\n",
              "        google.colab.kernel.accessAllowed ? 'block' : 'none';\n",
              "    })();\n",
              "  </script>\n",
              "</div>\n",
              "    </div>\n",
              "  </div>\n"
            ]
          },
          "metadata": {},
          "execution_count": 46
        }
      ]
    },
    {
      "cell_type": "code",
      "source": [
        "X=vac.dropna()"
      ],
      "metadata": {
        "id": "kh7HknZRCrH7"
      },
      "execution_count": 47,
      "outputs": []
    },
    {
      "cell_type": "code",
      "source": [
        "Y=X.drop_duplicates()"
      ],
      "metadata": {
        "id": "2NJXb9nxCyZ6"
      },
      "execution_count": 48,
      "outputs": []
    },
    {
      "cell_type": "code",
      "source": [
        "Y.shape"
      ],
      "metadata": {
        "colab": {
          "base_uri": "https://localhost:8080/"
        },
        "id": "Ig1YDdDeC-Go",
        "outputId": "46ed3c5e-443e-4564-be79-f788a7cd06bb"
      },
      "execution_count": 49,
      "outputs": [
        {
          "output_type": "execute_result",
          "data": {
            "text/plain": [
              "(68139, 6)"
            ]
          },
          "metadata": {},
          "execution_count": 49
        }
      ]
    },
    {
      "cell_type": "code",
      "source": [
        "print(Y)"
      ],
      "metadata": {
        "colab": {
          "base_uri": "https://localhost:8080/"
        },
        "id": "0V_dIHVaDBtv",
        "outputId": "9bedc095-c850-47e5-d291-5bcdb4f731fd"
      },
      "execution_count": 50,
      "outputs": [
        {
          "output_type": "stream",
          "name": "stderr",
          "text": [
            "IOPub data rate exceeded.\n",
            "The notebook server will temporarily stop sending output\n",
            "to the client in order to avoid crashing it.\n",
            "To change this limit, set the config variable\n",
            "`--NotebookApp.iopub_data_rate_limit`.\n",
            "\n",
            "Current values:\n",
            "NotebookApp.iopub_data_rate_limit=1000000.0 (bytes/sec)\n",
            "NotebookApp.rate_limit_window=3.0 (secs)\n",
            "\n"
          ]
        }
      ]
    },
    {
      "cell_type": "code",
      "source": [],
      "metadata": {
        "id": "hEYD__UUDG69"
      },
      "execution_count": null,
      "outputs": []
    },
    {
      "cell_type": "markdown",
      "source": [
        "two data sets are extracted\n",
        "1.general view(stored in y)\n",
        "2.vaccination details(stored in Y(capital letter y))"
      ],
      "metadata": {
        "id": "2p05F5JJDX0L"
      }
    },
    {
      "cell_type": "code",
      "source": [],
      "metadata": {
        "id": "HTaaBTVMDuOs"
      },
      "execution_count": null,
      "outputs": []
    }
  ]
}